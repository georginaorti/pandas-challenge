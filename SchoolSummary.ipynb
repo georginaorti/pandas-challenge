{
 "cells": [
  {
   "cell_type": "code",
   "execution_count": null,
   "metadata": {},
   "outputs": [],
   "source": [
    "import pandas as pd"
   ]
  },
  {
   "cell_type": "code",
   "execution_count": null,
   "metadata": {},
   "outputs": [],
   "source": [
    "school_load = \"Resources/schools_complete.csv\"\n",
    "student_load = \"Resources/students_complete.csv\""
   ]
  },
  {
   "cell_type": "code",
   "execution_count": null,
   "metadata": {},
   "outputs": [],
   "source": [
    "school_data = pd.read_csv(school_load)\n",
    "student_data = pd.read_csv(student_load)\n",
    "\n",
    "complete_data =pd.merge(student_data, school_data, how=\"left\", on=[\"school_name\", \"school_name\"])\n",
    "\n",
    "school_data.head()\n",
    "student_data.head()"
   ]
  },
  {
   "cell_type": "code",
   "execution_count": null,
   "metadata": {},
   "outputs": [],
   "source": [
    "school_type = len(school_data[\"school_name\"].unique())\n",
    "\n",
    "total_students = len(student_data[\"student_name\"].unique())\n",
    "\n",
    "school_budget = len(school_data[\"budget\"].unique())\n",
    "\n",
    "math_average1 = student_data[\"math_score\"].mean()\n",
    "\n",
    "reading_average1 = student_data[\"reading_score\"].mean()\n",
    "\n"
   ]
  },
  {
   "cell_type": "code",
   "execution_count": null,
   "metadata": {},
   "outputs": [],
   "source": [
    "summary_df =pd.DataFrame ({\"School Type\": [school_type],\n",
    "                            \"Total students\": [total_students],\n",
    "                            \"Total School Budget\": [school_budget],\n",
    "                            \"Average math scores\": [math_average1],\n",
    "                            \"Average reading score\": [reading_average1]})\n",
    "                    \n",
    "summary_df"
   ]
  }
 ],
 "metadata": {
  "kernelspec": {
   "display_name": "Python 3.9.12 ('base')",
   "language": "python",
   "name": "python3"
  },
  "language_info": {
   "codemirror_mode": {
    "name": "ipython",
    "version": 3
   },
   "file_extension": ".py",
   "mimetype": "text/x-python",
   "name": "python",
   "nbconvert_exporter": "python",
   "pygments_lexer": "ipython3",
   "version": "3.9.12"
  },
  "orig_nbformat": 4,
  "vscode": {
   "interpreter": {
    "hash": "c487c4468cc553fab60ba0a7493e6ff6c50c2cdc6acb9fcf9879f61105e9ad28"
   }
  }
 },
 "nbformat": 4,
 "nbformat_minor": 2
}
