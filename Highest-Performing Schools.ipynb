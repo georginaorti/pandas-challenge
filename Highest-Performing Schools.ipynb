{
 "cells": [
  {
   "cell_type": "code",
   "execution_count": null,
   "metadata": {},
   "outputs": [],
   "source": [
    "import pandas as pd"
   ]
  },
  {
   "cell_type": "code",
   "execution_count": null,
   "metadata": {},
   "outputs": [],
   "source": [
    "csv_path = \"Resources/schools_complete.csv\"\n",
    "high_perform_df = pd.read_csv(csv_path, encoding=\"UTF-8\")\n",
    "high_perform_df.head()"
   ]
  },
  {
   "cell_type": "code",
   "execution_count": null,
   "metadata": {},
   "outputs": [],
   "source": [
    "high_perform = high_perform_df.sort_values(\"% Overall Passing\")\n",
    "high_perform.head()"
   ]
  }
 ],
 "metadata": {
  "kernelspec": {
   "display_name": "Python 3.9.12 ('base')",
   "language": "python",
   "name": "python3"
  },
  "language_info": {
   "codemirror_mode": {
    "name": "ipython",
    "version": 3
   },
   "file_extension": ".py",
   "mimetype": "text/x-python",
   "name": "python",
   "nbconvert_exporter": "python",
   "pygments_lexer": "ipython3",
   "version": "3.9.12"
  },
  "orig_nbformat": 4,
  "vscode": {
   "interpreter": {
    "hash": "c487c4468cc553fab60ba0a7493e6ff6c50c2cdc6acb9fcf9879f61105e9ad28"
   }
  }
 },
 "nbformat": 4,
 "nbformat_minor": 2
}
